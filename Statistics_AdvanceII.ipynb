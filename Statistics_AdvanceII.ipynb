{
 "cells": [
  {
   "cell_type": "markdown",
   "id": "c82045bc",
   "metadata": {},
   "source": [
    "Statistics Advance-II"
   ]
  },
  {
   "cell_type": "markdown",
   "id": "528ec4a6",
   "metadata": {},
   "source": [
    "Q1. What are the Probability Mass Function(PMF) and Probability Density Function(PDF)? Explain with an example."
   ]
  },
  {
   "cell_type": "markdown",
   "id": "c1d3a409",
   "metadata": {},
   "source": [
    "Ans: Probability Mass Function is statistical term that describes the probability distribution of the discrete random variable.\n",
    "     In other words, Probability mass function is a function that relates discrete events to the probabilities associated with        those events occurring.\n",
    "     Example:\n",
    "     Consider an example that an exam contains 10 multiple choice question with 4 possible choices for each question in which\n",
    "     the only one is the correct answer. To find the probability of getting correct and incorrect answers, the probability mass\n",
    "     function is used.\n",
    "     Probability Density Function defines the probability function representing the density of a continous random variable\n",
    "     lying between a specific range of values.\n",
    "     \n",
    "     "
   ]
  },
  {
   "cell_type": "markdown",
   "id": "a938a6cc",
   "metadata": {},
   "source": [
    "Q2. What is the Cumulative Density Function(CDF)? Explain with an example. Why CDF is used?"
   ]
  },
  {
   "cell_type": "markdown",
   "id": "0ed1212d",
   "metadata": {},
   "source": [
    "Ans: The Cumulative Density Function of a random variable X, evaluated at x, is the probability function that X will take a          value less than or equal to x. It is used to describe the Probanility distribution of random variables in a table and with      the help of these data, we can easily create a CDF plot in an excel sheet. In other words, CDF finds the cumulative              probability for the given value. For discrete distribution functions, CDF gives the probability values till what we specify\n",
    "     and for continous distribution functions, it gives the area under the probability density function up to the given value\n",
    "     specified.\n",
    "     Consider a example for CDF which is given by rolling a fair six-sided die, where X is the random variable.\n",
    "     We know that the probability of getting an outcome by rolling a six-sided die is given as:\n",
    "     Probability of getting 1=P(x<=1)=1/6\n",
    "     Probability of getting 2=P(x<=2)=2/6=1/3\n",
    "     Probability of getting 3=P(x<=3)=3/6=1/2\n",
    "     Probability of getting 4=P(x<=4)=4/6=2/3\n",
    "     Probability of getting 5=P(x<=5)=5/6\n",
    "     Probability of getting 6=P(x<=6)=6/6=1\n",
    "     From this, it is noted that the probability value always lies between 0 and 1 and it is non-decreasing and right continous\n",
    "     in nature.\n",
    "     CDF is used to describe the probability distribution of a random variables in a table, and with the help of these data,\n",
    "     we can easily create a CDF plot in an excel sheet. CDF is also used to compare the probability between values under certain\n",
    "     conditions. Use the CDF to determine the likelihood that a random random observation taken from the population will be less\n",
    "     than or equal to a particular value. For discrete distribution functions, CDF gives the probability values till what we          specify and for continous distribution functions, it gives the area under the probability density function up to the given\n",
    "     value specified."
   ]
  },
  {
   "cell_type": "markdown",
   "id": "0873c85c",
   "metadata": {},
   "source": [
    "Q3. What are the some examples of situations where the normal distribution might be used as a model? Explain how the parameters\n",
    "    of the normal distribution relate to the shape of the distribution."
   ]
  },
  {
   "cell_type": "markdown",
   "id": "8a6ceab9",
   "metadata": {},
   "source": [
    "Ans: 1. Height of people\n",
    "     2. Blood Pressure\n",
    "     3. Measurement error\n",
    "     4. IQ scores\n",
    "     The two main parameters of the normal distribution are the mean and standerd deviation. The parameter determine the shape\n",
    "     and probabilities of the distribution. The shape of the distribution changes as the parameter values change.\n",
    "     1. Mean: It can be used to describe the distribution of variables measured as ratios or intervals. In a normal distribution         graph, the mean defines the location of the peak, and most of the data points are clustered around the mean. Any changes         made to the value of the mean move the curve either to the left or right along the X-axis.\n",
    "     2. Standard Deviation: It determines how far away from the mean the data points are positioned and represents the distance\n",
    "        between mean and the observations. On the graph, the standard deviation determines the width of the curve, and it               tightens or expands the width of the distribution along the x-axis. Typically, a small standard deviation relative to           the mean produces a steep curve, while a large standard deviation relative to the mean produces a flatter curve."
   ]
  },
  {
   "cell_type": "markdown",
   "id": "bd8cbfd7",
   "metadata": {},
   "source": [
    "Q4. Explain the importance of Normal Distribution. Give a few real-life examples of Normal Distribution."
   ]
  },
  {
   "cell_type": "markdown",
   "id": "1d29d456",
   "metadata": {},
   "source": [
    "Ans: The Normal Distribution is the most important probability distribution in dtatistics for independent, random variables.          Most people recognize bell-shaped curve in statistical reports. The Normal Distribution is a continous probability              distribution that is symmetrical aruond its mean, most of the observations cluster around the central peak, and the              probabilities for values further away from the mean taper off equally in both directions. As with any probability                distribution, the normal distribution describes how the values of a variable are distributed. It is the most important\n",
    "     probability distribution in statistics because it accurately describes the distribution values for many natural phenomena.\n",
    "     Real-life examples of Normal Distribution:\n",
    "     1. Height\n",
    "     2. Blood Pressure\n",
    "     3. Measurement error\n",
    "     4. IQ scores\n",
    "     "
   ]
  },
  {
   "cell_type": "markdown",
   "id": "a273df41",
   "metadata": {},
   "source": [
    "Q5. What is Bernaulli Distribution? Give an Example. What is the difference between Bernaulli Distribution and Binomial             Distribution?"
   ]
  },
  {
   "cell_type": "markdown",
   "id": "bc52876d",
   "metadata": {},
   "source": [
    "Ans: Bernaulli Distribution is the discrete probability distribution of a random variable which takes the value 1 with                probability p and the value 0 with probability q=1-p. Less formally, it can be thought of as a model for the set of              possible outcomes of any single experiment that asks a yes-no question.\n",
    "     Example:\n",
    "     Let us toss a fair coin. Let's say that the outcome of \"heads\" is a success, while an outcome of \"tails\" is a failure.\n",
    "     We know that there's a 50/50 chance of landing on either heads or tails. So, in this case:\n",
    "     p=0.5\n",
    "     q=1-0.5=0.5\n",
    "     Difference between Bernaulli Distribution and Normal Distribution:\n",
    "     1. Bernaulli Distribution deals with the outcome of the single trial of the event. Whereas, Binomial Distribution deals\n",
    "        with the outcome of the multiple trials of the single event.\n",
    "     2. Bernaulli Distribution is used when the outcome of an event is required for only one time. Whereas, the Binomial\n",
    "        Distribution is used when the outcome of an event is required multiple time."
   ]
  },
  {
   "cell_type": "markdown",
   "id": "00b62f66",
   "metadata": {},
   "source": []
  },
  {
   "cell_type": "markdown",
   "id": "84c92265",
   "metadata": {},
   "source": [
    "Q6. Consider a dataset with a mean of 50 and a standard deviation of 10. If we assume that the dataset is normally distributed,\n",
    "    what is the probability that a randomly selected observation will be greater than 60? Use the appropriate formula and show \n",
    "    your calculations.\n",
    "    "
   ]
  },
  {
   "cell_type": "markdown",
   "id": "5ca9a54e",
   "metadata": {},
   "source": [
    "Ans: Here, Mean, M=50\n",
    "           Standard deviation, sd=10\n",
    "           xi=60\n",
    "           z score=(xi-M)/sd=(60-50)/10=10/10=1\n",
    "           P(x=60)=0.8413\n",
    "           P(x>=60)=1-0.8413=0.1587\n",
    "           "
   ]
  },
  {
   "cell_type": "markdown",
   "id": "dde69b5f",
   "metadata": {},
   "source": [
    "Q7. Explain Uniform Distribution with an example."
   ]
  },
  {
   "cell_type": "markdown",
   "id": "49a24623",
   "metadata": {},
   "source": [
    "Ans: Suppose rolling a die.\n",
    "     The possible outcome is {1,2,3,4,5,6}\n",
    "     P(1)=1/6\n",
    "     P(2)=1/6\n",
    "     P(3)=1/6\n",
    "     P(4)=1/6\n",
    "     P(5)=1/6\n",
    "     P(6)=1/6\n",
    "     Here, possibility of each outcome is equal. So, This has a Uniform Distribution.\n",
    "     a=1 and b=6\n",
    "     Mean=(a+b)/2=(1+6)/2=3.5\n",
    "     Standerd deviation=sqrt((b-a)**2/12)=sqrt((6-1)**2/12)=1.44"
   ]
  },
  {
   "cell_type": "markdown",
   "id": "966414c4",
   "metadata": {},
   "source": [
    "Q8. What is the z score? State the importance of z score."
   ]
  },
  {
   "cell_type": "markdown",
   "id": "e93e3191",
   "metadata": {},
   "source": [
    "Ans: A measure of how many standard deviations below or above the population mean a raw score is called z score. It will be\n",
    "     positive if the value lies above the mean and negative if it lies below the mean. It is also known as standard score. It\n",
    "     indicates how many standard deviations an entity is, from the mean.\n",
    "     A z score gives us a idea of how far from the mean a data point is. It is an important topic in statistics. z scores are\n",
    "     a method to compare results to a \"normal\" population. A z score helps to calculate the probability of a score occurring\n",
    "     within a standard normal distribution. It also enables us to compare two scores that are from different samples."
   ]
  },
  {
   "cell_type": "markdown",
   "id": "18a5bef0",
   "metadata": {},
   "source": [
    "Q9. What is Central Limit Theorem? State the significance of the Central Limit Theorem."
   ]
  },
  {
   "cell_type": "markdown",
   "id": "1e7bccf4",
   "metadata": {},
   "source": [
    "Ans: Central Limit Theorem, which is a statistical theory, states that when a large sample size has a finite variance, the            samples will be normally distributed, and the mean of samples will be approximately equal to the mean of the whole              population.\n",
    "     The Central Limit Theorem is useful when analyzing large data sets because it allows one to assume that the sampling            distribution of the mean will be normally distributed in most cases. This allows for easier statistical analysis and            inference. For example, investors can use Central Limit Theorem to aggregate individual security performance data and            generate distribution of sample means that represent a larger population distribution for security returns over a period\n",
    "     of time."
   ]
  },
  {
   "cell_type": "markdown",
   "id": "9433f454",
   "metadata": {},
   "source": [
    "Q10. State the assumptions of the Central Limit Theorem."
   ]
  },
  {
   "cell_type": "markdown",
   "id": "7c82c3c4",
   "metadata": {},
   "source": [
    "Ans: 1. The sample should be drawn randomly following the condition of randomisation.\n",
    "     2. The samples drawn should be independent of each other. They should not influence the other samples.\n",
    "     3. When the sampling is done without replacement, the sample size shouldn't exceed 10% of the total population.\n",
    "     4. The sample size should be sufficient large."
   ]
  }
 ],
 "metadata": {
  "kernelspec": {
   "display_name": "Python 3 (ipykernel)",
   "language": "python",
   "name": "python3"
  },
  "language_info": {
   "codemirror_mode": {
    "name": "ipython",
    "version": 3
   },
   "file_extension": ".py",
   "mimetype": "text/x-python",
   "name": "python",
   "nbconvert_exporter": "python",
   "pygments_lexer": "ipython3",
   "version": "3.10.9"
  }
 },
 "nbformat": 4,
 "nbformat_minor": 5
}
